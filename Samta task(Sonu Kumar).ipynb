{
 "cells": [
  {
   "cell_type": "markdown",
   "id": "9be80832-4f03-45dd-9e01-b50d1dd7caf5",
   "metadata": {},
   "source": [
    "## Task 1: Calculate Area with Conditions\r\n",
    "Write a Python function calculate_area that takes two parameters: length and width. It should calculate and return the area of a rectangle. However, add a condition: if the length is equal to the width, return \"This is a square!\" instead of the area. Then, write a program to input values for length and width from the user and call the calculate_area function to display either the area or the message."
   ]
  },
  {
   "cell_type": "code",
   "execution_count": 1,
   "id": "a935c5b7-de02-4f22-afaf-0a407b3d20ef",
   "metadata": {},
   "outputs": [
    {
     "name": "stdin",
     "output_type": "stream",
     "text": [
      "Enter the length:  10\n",
      "Enter the width:  20\n"
     ]
    },
    {
     "name": "stdout",
     "output_type": "stream",
     "text": [
      "The result is: 200.0\n"
     ]
    }
   ],
   "source": [
    "def calculate_area(length, width):\n",
    "  # for length is equal to the width\n",
    "  if length == width:\n",
    "    return \"This is a square!\"\n",
    "  else:\n",
    "    # Calculate the area of the rectangle\n",
    "    area = length * width\n",
    "    return area\n",
    "length = float(input(\"Enter the length: \"))\n",
    "width = float(input(\"Enter the width: \"))\n",
    "result = calculate_area(length, width)\n",
    "print(\"The result is:\", result)"
   ]
  },
  {
   "cell_type": "markdown",
   "id": "2a0b663a-e172-4319-b8b9-5374d98ba299",
   "metadata": {},
   "source": [
    "## Task 2: Generate Fibonacci Series\r\n",
    "Problem Statement:\r\n",
    "Write a Python program that generates the Fibonacci sequence up to a specified number of terms, n. The Fibonacci sequence starts with 0 and 1, and each subsequent number in the sequence is the sum of the two preceding numbers (e.g., 0, 1, 1, 2, 3, 5, 8, ...). Prompt the user to enter the number of terms (n) they want in the sequence and then display the Fibonacci sequence up to that number of terms."
   ]
  },
  {
   "cell_type": "code",
   "execution_count": 2,
   "id": "3b91c321-3653-4c9a-ace4-0eea1a0e569b",
   "metadata": {},
   "outputs": [
    {
     "name": "stdin",
     "output_type": "stream",
     "text": [
      "Enter the number of terms:  7\n"
     ]
    },
    {
     "name": "stdout",
     "output_type": "stream",
     "text": [
      "The Fibonacci sequence up to 7 terms is: [0, 1, 1, 2, 3, 5, 8]\n"
     ]
    }
   ],
   "source": [
    "def fibonacci(n):\n",
    "  # Initialize the first two terms of the sequence\n",
    "  a = 0\n",
    "  b = 1\n",
    "  # Create an empty list to store the sequence\n",
    "  sequence = []\n",
    "  for i in range(n):\n",
    "    # Append the current term to the sequence\n",
    "    sequence.append(a)\n",
    "    c = a + b\n",
    "    a = b\n",
    "    b = c\n",
    "  return sequence\n",
    "# Prompt the user to enter the number of terms\n",
    "n = int(input(\"Enter the number of terms: \"))\n",
    "result = fibonacci(n)\n",
    "print(\"The Fibonacci sequence up to\", n, \"terms is:\", result)"
   ]
  },
  {
   "cell_type": "code",
   "execution_count": null,
   "id": "8796c485-eacd-434f-9d35-6be5101c36f6",
   "metadata": {},
   "outputs": [],
   "source": []
  }
 ],
 "metadata": {
  "kernelspec": {
   "display_name": "Python 3 (ipykernel)",
   "language": "python",
   "name": "python3"
  },
  "language_info": {
   "codemirror_mode": {
    "name": "ipython",
    "version": 3
   },
   "file_extension": ".py",
   "mimetype": "text/x-python",
   "name": "python",
   "nbconvert_exporter": "python",
   "pygments_lexer": "ipython3",
   "version": "3.11.0"
  }
 },
 "nbformat": 4,
 "nbformat_minor": 5
}
